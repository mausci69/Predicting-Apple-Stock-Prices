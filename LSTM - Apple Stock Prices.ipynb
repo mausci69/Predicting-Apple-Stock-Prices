{
 "cells": [
  {
   "cell_type": "markdown",
   "metadata": {},
   "source": [
    "## RECURRENT NEURAL NETWORK FOR APPLE STOCK PRICES"
   ]
  },
  {
   "cell_type": "markdown",
   "metadata": {},
   "source": [
    "## Data Preprocessing"
   ]
  },
  {
   "cell_type": "code",
   "execution_count": 54,
   "metadata": {},
   "outputs": [],
   "source": [
    "# Importing the libraries\n",
    "\n",
    "%matplotlib inline\n",
    "\n",
    "import numpy as np\n",
    "import matplotlib.pyplot as plt\n",
    "import pandas as pd"
   ]
  },
  {
   "cell_type": "code",
   "execution_count": 55,
   "metadata": {},
   "outputs": [],
   "source": [
    "# Importing the training set\n",
    "\n",
    "dataset_train = pd.read_csv('Data_Science/Stock Prices/Apple/Apple_Stock_Price_Train.csv')\n",
    "training_set = dataset_train.iloc[:, 1:2].values"
   ]
  },
  {
   "cell_type": "code",
   "execution_count": 56,
   "metadata": {},
   "outputs": [
    {
     "data": {
      "text/html": [
       "<div>\n",
       "<style scoped>\n",
       "    .dataframe tbody tr th:only-of-type {\n",
       "        vertical-align: middle;\n",
       "    }\n",
       "\n",
       "    .dataframe tbody tr th {\n",
       "        vertical-align: top;\n",
       "    }\n",
       "\n",
       "    .dataframe thead th {\n",
       "        text-align: right;\n",
       "    }\n",
       "</style>\n",
       "<table border=\"1\" class=\"dataframe\">\n",
       "  <thead>\n",
       "    <tr style=\"text-align: right;\">\n",
       "      <th></th>\n",
       "      <th>Date</th>\n",
       "      <th>Open</th>\n",
       "      <th>High</th>\n",
       "      <th>Low</th>\n",
       "      <th>Close</th>\n",
       "      <th>Adj Close</th>\n",
       "      <th>Volume</th>\n",
       "    </tr>\n",
       "  </thead>\n",
       "  <tbody>\n",
       "    <tr>\n",
       "      <th>0</th>\n",
       "      <td>01/11/2013</td>\n",
       "      <td>74.860001</td>\n",
       "      <td>74.971428</td>\n",
       "      <td>73.691429</td>\n",
       "      <td>74.290001</td>\n",
       "      <td>60.658089</td>\n",
       "      <td>68722500</td>\n",
       "    </tr>\n",
       "    <tr>\n",
       "      <th>1</th>\n",
       "      <td>04/11/2013</td>\n",
       "      <td>74.442856</td>\n",
       "      <td>75.260002</td>\n",
       "      <td>74.115715</td>\n",
       "      <td>75.250000</td>\n",
       "      <td>61.441933</td>\n",
       "      <td>61156900</td>\n",
       "    </tr>\n",
       "    <tr>\n",
       "      <th>2</th>\n",
       "      <td>05/11/2013</td>\n",
       "      <td>74.940002</td>\n",
       "      <td>75.555717</td>\n",
       "      <td>74.714287</td>\n",
       "      <td>75.064285</td>\n",
       "      <td>61.290287</td>\n",
       "      <td>66303300</td>\n",
       "    </tr>\n",
       "    <tr>\n",
       "      <th>3</th>\n",
       "      <td>06/11/2013</td>\n",
       "      <td>74.878571</td>\n",
       "      <td>74.980003</td>\n",
       "      <td>74.028572</td>\n",
       "      <td>74.417145</td>\n",
       "      <td>63.335331</td>\n",
       "      <td>55843900</td>\n",
       "    </tr>\n",
       "    <tr>\n",
       "      <th>4</th>\n",
       "      <td>07/11/2013</td>\n",
       "      <td>74.225716</td>\n",
       "      <td>74.741432</td>\n",
       "      <td>73.197144</td>\n",
       "      <td>73.212860</td>\n",
       "      <td>62.310387</td>\n",
       "      <td>65655100</td>\n",
       "    </tr>\n",
       "  </tbody>\n",
       "</table>\n",
       "</div>"
      ],
      "text/plain": [
       "         Date       Open       High        Low      Close  Adj Close    Volume\n",
       "0  01/11/2013  74.860001  74.971428  73.691429  74.290001  60.658089  68722500\n",
       "1  04/11/2013  74.442856  75.260002  74.115715  75.250000  61.441933  61156900\n",
       "2  05/11/2013  74.940002  75.555717  74.714287  75.064285  61.290287  66303300\n",
       "3  06/11/2013  74.878571  74.980003  74.028572  74.417145  63.335331  55843900\n",
       "4  07/11/2013  74.225716  74.741432  73.197144  73.212860  62.310387  65655100"
      ]
     },
     "execution_count": 56,
     "metadata": {},
     "output_type": "execute_result"
    }
   ],
   "source": [
    "dataset_train.head()"
   ]
  },
  {
   "cell_type": "markdown",
   "metadata": {},
   "source": [
    "<p><font size=2\">We now choose a column to get values that are uniform. We could definitily choose every column, <br>\n",
    "    except 'Date' and 'Volume', that has different information. We choose the 'Open' column, <br>\n",
    "    with the stock prices at the opening of the market.</font></p>"
   ]
  },
  {
   "cell_type": "markdown",
   "metadata": {},
   "source": [
    "<p><font size=2\">Using MinMaxScaler, from sklearn.preprocessing, we normalize our values, in the range<br>\n",
    "contained in the feature_range parameter, meaning among 0 and 1 in this case.</font></p>"
   ]
  },
  {
   "cell_type": "code",
   "execution_count": 57,
   "metadata": {},
   "outputs": [],
   "source": [
    "# Feature Scaling\n",
    "\n",
    "from sklearn.preprocessing import MinMaxScaler\n",
    "sc = MinMaxScaler(feature_range = (0, 1))\n",
    "training_set_scaled = sc.fit_transform(training_set)"
   ]
  },
  {
   "cell_type": "code",
   "execution_count": 58,
   "metadata": {},
   "outputs": [
    {
     "data": {
      "text/plain": [
       "array([[0.02574358],\n",
       "       [0.02313708],\n",
       "       [0.02624346],\n",
       "       [0.02585962],\n",
       "       [0.02178029]])"
      ]
     },
     "execution_count": 58,
     "metadata": {},
     "output_type": "execute_result"
    }
   ],
   "source": [
    "training_set_scaled[:5]"
   ]
  },
  {
   "cell_type": "markdown",
   "metadata": {},
   "source": [
    "<p><font size=2\">\n",
    "Now we create two data structures, one with the 60 previous values, one for the output. <br>\n",
    "We are going to use these data structures for the training of our <b>RNN</b>.<br>\n",
    "We call them X_train and y_train.\n",
    "</p></font>"
   ]
  },
  {
   "cell_type": "code",
   "execution_count": 59,
   "metadata": {},
   "outputs": [],
   "source": [
    "# Creating a data structure with 60 timesteps and 1 output\n",
    "\n",
    "X_train = []\n",
    "y_train = []\n",
    "for i in range(60, 1258):\n",
    "    X_train.append(training_set_scaled[i-60:i, 0])\n",
    "    y_train.append(training_set_scaled[i, 0])\n",
    "#y_train = training_set_scaled[60:, :]\n",
    "X_train, y_train = np.array(X_train), np.array(y_train)"
   ]
  },
  {
   "cell_type": "markdown",
   "metadata": {},
   "source": [
    "<p><font size=2\">\n",
    "We now to add a third dimension to X_train.\n",
    "</p></font>"
   ]
  },
  {
   "cell_type": "code",
   "execution_count": 60,
   "metadata": {},
   "outputs": [],
   "source": [
    "# Reshaping\n",
    "X_train = np.reshape(X_train, (X_train.shape[0], X_train.shape[1], 1))"
   ]
  },
  {
   "cell_type": "markdown",
   "metadata": {},
   "source": [
    "## Building the RNN"
   ]
  },
  {
   "cell_type": "code",
   "execution_count": 61,
   "metadata": {},
   "outputs": [],
   "source": [
    "# Importing the Keras libraries and packages\n",
    "\n",
    "from keras.models import Sequential\n",
    "from keras.layers import Dense\n",
    "from keras.layers import LSTM\n",
    "from keras.layers import Dropout"
   ]
  },
  {
   "cell_type": "code",
   "execution_count": 62,
   "metadata": {},
   "outputs": [],
   "source": [
    "# Initialising the RNN\n",
    "\n",
    "regressor = Sequential()"
   ]
  },
  {
   "cell_type": "code",
   "execution_count": 63,
   "metadata": {},
   "outputs": [],
   "source": [
    "# Adding the first LSTM layer and some Dropout regularisation\n",
    "\n",
    "regressor.add(LSTM(units = 50, return_sequences = True, input_shape = (X_train.shape[1], 1)))\n",
    "regressor.add(Dropout(0.2))"
   ]
  },
  {
   "cell_type": "code",
   "execution_count": 64,
   "metadata": {},
   "outputs": [],
   "source": [
    "# Adding a second LSTM layer and some Dropout regularisation\n",
    "\n",
    "regressor.add(LSTM(units = 50, return_sequences = True))\n",
    "regressor.add(Dropout(0.2))"
   ]
  },
  {
   "cell_type": "code",
   "execution_count": 65,
   "metadata": {},
   "outputs": [],
   "source": [
    "# Adding a third LSTM layer and some Dropout regularisation\n",
    "\n",
    "regressor.add(LSTM(units = 50, return_sequences = True))\n",
    "regressor.add(Dropout(0.2))"
   ]
  },
  {
   "cell_type": "code",
   "execution_count": 66,
   "metadata": {},
   "outputs": [],
   "source": [
    "# Adding a fourth LSTM layer and some Dropout regularisation\n",
    "\n",
    "regressor.add(LSTM(units = 50))\n",
    "regressor.add(Dropout(0.2))"
   ]
  },
  {
   "cell_type": "code",
   "execution_count": 67,
   "metadata": {},
   "outputs": [],
   "source": [
    "# Adding the output layer\n",
    "\n",
    "regressor.add(Dense(units = 1))"
   ]
  },
  {
   "cell_type": "code",
   "execution_count": 68,
   "metadata": {},
   "outputs": [],
   "source": [
    "# Compiling the RNN\n",
    "\n",
    "regressor.compile(optimizer = 'adam', loss = 'mean_squared_error')"
   ]
  },
  {
   "cell_type": "code",
   "execution_count": 69,
   "metadata": {},
   "outputs": [
    {
     "name": "stdout",
     "output_type": "stream",
     "text": [
      "Epoch 1/100\n",
      "1198/1198 [==============================] - 34s 28ms/step - loss: 0.0348\n",
      "Epoch 2/100\n",
      "1198/1198 [==============================] - 27s 23ms/step - loss: 0.0043\n",
      "Epoch 3/100\n",
      "1198/1198 [==============================] - 27s 23ms/step - loss: 0.0038\n",
      "Epoch 4/100\n",
      "1198/1198 [==============================] - 27s 23ms/step - loss: 0.0038\n",
      "Epoch 5/100\n",
      "1198/1198 [==============================] - 27s 23ms/step - loss: 0.0032\n",
      "Epoch 6/100\n",
      "1198/1198 [==============================] - 27s 23ms/step - loss: 0.0030\n",
      "Epoch 7/100\n",
      "1198/1198 [==============================] - 27s 23ms/step - loss: 0.0033\n",
      "Epoch 8/100\n",
      "1198/1198 [==============================] - 27s 22ms/step - loss: 0.0033\n",
      "Epoch 9/100\n",
      "1198/1198 [==============================] - 27s 23ms/step - loss: 0.0027\n",
      "Epoch 10/100\n",
      "1198/1198 [==============================] - 27s 23ms/step - loss: 0.0028\n",
      "Epoch 11/100\n",
      "1198/1198 [==============================] - 27s 23ms/step - loss: 0.0026\n",
      "Epoch 12/100\n",
      "1198/1198 [==============================] - 27s 23ms/step - loss: 0.0026\n",
      "Epoch 13/100\n",
      "1198/1198 [==============================] - 27s 22ms/step - loss: 0.0024\n",
      "Epoch 14/100\n",
      "1198/1198 [==============================] - 27s 23ms/step - loss: 0.0023\n",
      "Epoch 15/100\n",
      "1198/1198 [==============================] - 27s 22ms/step - loss: 0.0029\n",
      "Epoch 16/100\n",
      "1198/1198 [==============================] - 27s 22ms/step - loss: 0.0025\n",
      "Epoch 17/100\n",
      "1198/1198 [==============================] - 27s 23ms/step - loss: 0.0024\n",
      "Epoch 18/100\n",
      "1198/1198 [==============================] - 27s 23ms/step - loss: 0.0025\n",
      "Epoch 19/100\n",
      "1198/1198 [==============================] - 27s 23ms/step - loss: 0.0026\n",
      "Epoch 20/100\n",
      "1198/1198 [==============================] - 27s 23ms/step - loss: 0.0021\n",
      "Epoch 21/100\n",
      "1198/1198 [==============================] - 28s 23ms/step - loss: 0.0021\n",
      "Epoch 22/100\n",
      "1198/1198 [==============================] - 27s 23ms/step - loss: 0.0025\n",
      "Epoch 23/100\n",
      "1198/1198 [==============================] - 27s 23ms/step - loss: 0.0021\n",
      "Epoch 24/100\n",
      "1198/1198 [==============================] - 27s 23ms/step - loss: 0.0019\n",
      "Epoch 25/100\n",
      "1198/1198 [==============================] - 27s 23ms/step - loss: 0.0022\n",
      "Epoch 26/100\n",
      "1198/1198 [==============================] - 27s 22ms/step - loss: 0.0019\n",
      "Epoch 27/100\n",
      "1198/1198 [==============================] - 28s 23ms/step - loss: 0.0017\n",
      "Epoch 28/100\n",
      "1198/1198 [==============================] - 28s 23ms/step - loss: 0.0020\n",
      "Epoch 29/100\n",
      "1198/1198 [==============================] - 28s 24ms/step - loss: 0.0018\n",
      "Epoch 30/100\n",
      "1198/1198 [==============================] - 28s 24ms/step - loss: 0.0017\n",
      "Epoch 31/100\n",
      "1198/1198 [==============================] - 29s 24ms/step - loss: 0.0021\n",
      "Epoch 32/100\n",
      "1198/1198 [==============================] - 29s 24ms/step - loss: 0.0019\n",
      "Epoch 33/100\n",
      "1198/1198 [==============================] - 29s 24ms/step - loss: 0.0016\n",
      "Epoch 34/100\n",
      "1198/1198 [==============================] - 28s 24ms/step - loss: 0.0020\n",
      "Epoch 35/100\n",
      "1198/1198 [==============================] - 28s 23ms/step - loss: 0.0022\n",
      "Epoch 36/100\n",
      "1198/1198 [==============================] - 28s 23ms/step - loss: 0.0017\n",
      "Epoch 37/100\n",
      "1198/1198 [==============================] - 28s 23ms/step - loss: 0.0016\n",
      "Epoch 38/100\n",
      "1198/1198 [==============================] - 28s 23ms/step - loss: 0.0016\n",
      "Epoch 39/100\n",
      "1198/1198 [==============================] - 28s 23ms/step - loss: 0.0017\n",
      "Epoch 40/100\n",
      "1198/1198 [==============================] - 29s 24ms/step - loss: 0.0018\n",
      "Epoch 41/100\n",
      "1198/1198 [==============================] - 30s 25ms/step - loss: 0.0017\n",
      "Epoch 42/100\n",
      "1198/1198 [==============================] - 30s 25ms/step - loss: 0.0014\n",
      "Epoch 43/100\n",
      "1198/1198 [==============================] - 28s 24ms/step - loss: 0.0016\n",
      "Epoch 44/100\n",
      "1198/1198 [==============================] - 28s 24ms/step - loss: 0.0014\n",
      "Epoch 45/100\n",
      "1198/1198 [==============================] - 28s 24ms/step - loss: 0.0015\n",
      "Epoch 46/100\n",
      "1198/1198 [==============================] - 28s 23ms/step - loss: 0.0014\n",
      "Epoch 47/100\n",
      "1198/1198 [==============================] - 28s 23ms/step - loss: 0.0014\n",
      "Epoch 48/100\n",
      "1198/1198 [==============================] - 28s 23ms/step - loss: 0.0015\n",
      "Epoch 49/100\n",
      "1198/1198 [==============================] - 28s 23ms/step - loss: 0.0013\n",
      "Epoch 50/100\n",
      "1198/1198 [==============================] - 33s 27ms/step - loss: 0.0013\n",
      "Epoch 51/100\n",
      "1198/1198 [==============================] - 28s 23ms/step - loss: 0.0013\n",
      "Epoch 52/100\n",
      "1198/1198 [==============================] - 28s 23ms/step - loss: 0.0014\n",
      "Epoch 53/100\n",
      "1198/1198 [==============================] - 29s 24ms/step - loss: 0.0013\n",
      "Epoch 54/100\n",
      "1198/1198 [==============================] - 30s 25ms/step - loss: 0.0014\n",
      "Epoch 55/100\n",
      "1198/1198 [==============================] - 28s 24ms/step - loss: 0.0012\n",
      "Epoch 56/100\n",
      "1198/1198 [==============================] - 28s 24ms/step - loss: 0.0015\n",
      "Epoch 57/100\n",
      "1198/1198 [==============================] - 28s 24ms/step - loss: 0.0013\n",
      "Epoch 58/100\n",
      "1198/1198 [==============================] - 29s 24ms/step - loss: 0.0012\n",
      "Epoch 59/100\n",
      "1198/1198 [==============================] - 29s 24ms/step - loss: 0.0012\n",
      "Epoch 60/100\n",
      "1198/1198 [==============================] - 29s 24ms/step - loss: 0.0012\n",
      "Epoch 61/100\n",
      "1198/1198 [==============================] - 29s 24ms/step - loss: 0.0012\n",
      "Epoch 62/100\n",
      "1198/1198 [==============================] - 29s 24ms/step - loss: 0.0012\n",
      "Epoch 63/100\n",
      "1198/1198 [==============================] - 29s 24ms/step - loss: 0.0013\n",
      "Epoch 64/100\n",
      "1198/1198 [==============================] - 29s 24ms/step - loss: 0.0011\n",
      "Epoch 65/100\n",
      "1198/1198 [==============================] - 29s 24ms/step - loss: 0.0012\n",
      "Epoch 66/100\n",
      "1198/1198 [==============================] - 29s 24ms/step - loss: 0.0011\n",
      "Epoch 67/100\n",
      "1198/1198 [==============================] - 29s 24ms/step - loss: 0.0011\n",
      "Epoch 68/100\n",
      "1198/1198 [==============================] - 29s 24ms/step - loss: 0.0011\n",
      "Epoch 69/100\n",
      "1198/1198 [==============================] - 29s 24ms/step - loss: 0.0010\n",
      "Epoch 70/100\n",
      "1198/1198 [==============================] - 29s 24ms/step - loss: 9.9259e-04\n",
      "Epoch 71/100\n",
      "1198/1198 [==============================] - 29s 24ms/step - loss: 0.0011\n",
      "Epoch 72/100\n",
      "1198/1198 [==============================] - 29s 25ms/step - loss: 0.0012\n",
      "Epoch 73/100\n",
      "1198/1198 [==============================] - 30s 25ms/step - loss: 0.0012\n",
      "Epoch 74/100\n",
      "1198/1198 [==============================] - 30s 25ms/step - loss: 0.0012\n",
      "Epoch 75/100\n",
      "1198/1198 [==============================] - 30s 25ms/step - loss: 0.0010\n",
      "Epoch 76/100\n",
      "1198/1198 [==============================] - 30s 25ms/step - loss: 0.0011\n",
      "Epoch 77/100\n",
      "1198/1198 [==============================] - 30s 25ms/step - loss: 0.0012\n",
      "Epoch 78/100\n",
      "1198/1198 [==============================] - 31s 25ms/step - loss: 0.0011\n",
      "Epoch 79/100\n",
      "1198/1198 [==============================] - 30s 25ms/step - loss: 9.7802e-04\n",
      "Epoch 80/100\n",
      "1198/1198 [==============================] - 30s 25ms/step - loss: 0.0010\n",
      "Epoch 81/100\n",
      "1198/1198 [==============================] - 30s 25ms/step - loss: 0.0010\n",
      "Epoch 82/100\n",
      "1198/1198 [==============================] - 29s 24ms/step - loss: 9.9178e-04\n",
      "Epoch 83/100\n",
      "1198/1198 [==============================] - 29s 24ms/step - loss: 0.0011\n",
      "Epoch 84/100\n",
      "1198/1198 [==============================] - 28s 24ms/step - loss: 0.0011\n",
      "Epoch 85/100\n",
      "1198/1198 [==============================] - 28s 23ms/step - loss: 0.0010\n",
      "Epoch 86/100\n",
      "1198/1198 [==============================] - 28s 24ms/step - loss: 0.0011\n",
      "Epoch 87/100\n",
      "1198/1198 [==============================] - 28s 24ms/step - loss: 8.4523e-04\n",
      "Epoch 88/100\n",
      "1198/1198 [==============================] - 28s 24ms/step - loss: 9.6412e-04\n",
      "Epoch 89/100\n",
      "1198/1198 [==============================] - 30s 25ms/step - loss: 0.0011\n",
      "Epoch 90/100\n",
      "1198/1198 [==============================] - 28s 23ms/step - loss: 0.0010\n",
      "Epoch 91/100\n",
      "1198/1198 [==============================] - 28s 23ms/step - loss: 9.4969e-04\n",
      "Epoch 92/100\n",
      "1198/1198 [==============================] - 29s 24ms/step - loss: 9.1073e-04\n",
      "Epoch 93/100\n",
      "1198/1198 [==============================] - 28s 23ms/step - loss: 0.0010\n",
      "Epoch 94/100\n",
      "1198/1198 [==============================] - 27s 23ms/step - loss: 0.0011\n",
      "Epoch 95/100\n",
      "1198/1198 [==============================] - 27s 23ms/step - loss: 9.5356e-04\n",
      "Epoch 96/100\n",
      "1198/1198 [==============================] - 27s 23ms/step - loss: 0.0010\n",
      "Epoch 97/100\n",
      "1198/1198 [==============================] - 27s 23ms/step - loss: 0.0010\n",
      "Epoch 98/100\n",
      "1198/1198 [==============================] - 27s 22ms/step - loss: 8.8194e-04\n",
      "Epoch 99/100\n",
      "1198/1198 [==============================] - 27s 23ms/step - loss: 8.7135e-04\n",
      "Epoch 100/100\n",
      "1198/1198 [==============================] - 27s 22ms/step - loss: 8.6184e-04\n"
     ]
    },
    {
     "data": {
      "text/plain": [
       "<keras.callbacks.History at 0x1a39f147b8>"
      ]
     },
     "execution_count": 69,
     "metadata": {},
     "output_type": "execute_result"
    }
   ],
   "source": [
    "# Fitting the RNN to the Training set\n",
    "\n",
    "regressor.fit(X_train, y_train, epochs = 100, batch_size = 32)"
   ]
  },
  {
   "cell_type": "markdown",
   "metadata": {},
   "source": [
    "<p><font size=2\">\n",
    "We built a <b>LSTM</b> neural network, that is a particular <b>RNN</b>.<br>\n",
    "RNN means Recurrent Neural Network, an algorythm that is having a great success, thanks to its ability<br>\n",
    "in processing sequential data. It is used by Apple Siri, for instance.<br>\n",
    "LSTM means Long Short-Term Memory, and it is a specific RNN model. <br>\n",
    "We trained an LSTM with four layers and a dropout of 20% to prevent overfitting,<br>\n",
    "for one hundred epochs on five years of Apple stock prices.\n",
    "</p></font>"
   ]
  },
  {
   "cell_type": "markdown",
   "metadata": {},
   "source": [
    "## Making the Predictions and Visualising the Results"
   ]
  },
  {
   "cell_type": "markdown",
   "metadata": {},
   "source": [
    "<p><font size=2\">\n",
    "In the last part, we test our neural network on the next month of Apple stock prices,<br>\n",
    "to check if we get results close to the real ones.\n",
    "</p></font>"
   ]
  },
  {
   "cell_type": "code",
   "execution_count": null,
   "metadata": {},
   "outputs": [],
   "source": [
    "# Getting the real stock price of last month\n",
    "\n",
    "dataset_test = pd.read_csv('Data_Science/Stock Prices/Apple/Apple_Stock_Price_Test.csv')\n",
    "real_stock_price = dataset_test.iloc[:, 1:2].values"
   ]
  },
  {
   "cell_type": "code",
   "execution_count": 71,
   "metadata": {},
   "outputs": [],
   "source": [
    "# Getting the predicted stock price of last month\n",
    "\n",
    "dataset_total = pd.concat((dataset_train['Open'], dataset_test['Open']), axis = 0)\n",
    "inputs = dataset_total[len(dataset_total) - len(dataset_test) - 60:].values\n",
    "inputs = inputs.reshape(-1,1)\n",
    "inputs = sc.transform(inputs)\n",
    "X_test = []\n",
    "for i in range(60, 81):\n",
    "    X_test.append(inputs[i-60:i, 0])\n",
    "X_test = np.array(X_test)\n",
    "X_test = np.reshape(X_test, (X_test.shape[0], X_test.shape[1], 1))\n",
    "predicted_stock_price = regressor.predict(X_test)\n",
    "predicted_stock_price = sc.inverse_transform(predicted_stock_price)"
   ]
  },
  {
   "cell_type": "code",
   "execution_count": 72,
   "metadata": {},
   "outputs": [
    {
     "data": {
      "image/png": "[encoded data removed]",
      "text/plain": [
       "<Figure size 432x288 with 1 Axes>"
      ]
     },
     "metadata": {
      "needs_background": "light"
     },
     "output_type": "display_data"
    }
   ],
   "source": [
    "# Visualising the results\n",
    "\n",
    "plt.plot(real_stock_price, color = 'red', label = 'Real Apple Stock Price')\n",
    "plt.plot(predicted_stock_price, color = 'blue', label = 'Predicted Apple Stock Price')\n",
    "plt.title('Apple Stock Price Prediction')\n",
    "plt.xlabel('Time')\n",
    "plt.ylabel('Apple Stock Price')\n",
    "plt.legend()\n",
    "plt.show()"
   ]
  },
  {
   "cell_type": "code",
   "execution_count": null,
   "metadata": {},
   "outputs": [],
   "source": [
    "<p><font size=2\">\n",
    "This results are great!<br>\n",
    "Our predictions of Apple stock prices, obtained with a LSTM exceed expectations.<br>\n",
    "Thanks again to Kirill Eremenko and Hadelin de Ponteves, for their<br>\n",
    "\"Deep Learning A-Z™: Hands-On Artificial Neural Networks\" Udemy course.\n",
    "</p></font>"
   ]
  }
 ],
 "metadata": {
  "kernelspec": {
   "display_name": "Python 3",
   "language": "python",
   "name": "python3"
  },
  "language_info": {
   "codemirror_mode": {
    "name": "ipython",
    "version": 3
   },
   "file_extension": ".py",
   "mimetype": "text/x-python",
   "name": "python",
   "nbconvert_exporter": "python",
   "pygments_lexer": "ipython3",
   "version": "3.6.0"
  }
 },
 "nbformat": 4,
 "nbformat_minor": 2
}
